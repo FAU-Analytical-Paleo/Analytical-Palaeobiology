{
 "cells": [
  {
   "cell_type": "markdown",
   "metadata": {},
   "source": [
    "# Tutorial: Covid-19\n",
    "Wolfgang Kiessling\n",
    "\n",
    "18 April 2020\n"
   ]
  },
  {
   "cell_type": "markdown",
   "metadata": {},
   "source": [
    "## Purpose of this exercise ##\n",
    "The current Corona crisis is a great opportunity to learn about two things  \n",
    " **1. Evaluate data quality and selecting the best variables**  \n",
    " **2. Model time series data for prediction**\n",
    "\n",
    "Before we come to that let us back up a little.  \n",
    "The novel Corona virus was first reported in December 2019 from the Chinese city of Wuhan.\n",
    "Until the end of January 2020 the infections were largely limited to China, which responded with a complete lockdown of Wuhan and the entire Hubei Province.   \n",
    "Reports of infection and death rates were constantly updated by in an intransparent way. Experts agreed that the numbers cannot be trusted, which is also supported by recent massive corrections of the death toll.  \n",
    "The problem of data quality continues until the present day (April 18 2020) at global scales.  \n",
    "\n",
    "*Discussion of what the problems might be*  \n",
    "  \n",
    "Problems are numerous but there may be a general tendency of underreporting infections, which leads to an overestimate of death rates. \n",
    "\n",
    "#### So can we make a reasonable estimate of death rates from the numbers alone? ####\n",
    "\n",
    "To start this excercise let us see where we can access global data. Johns Hopkins University is THE global source for Coronavirus data.\n",
    "https://coronavirus.jhu.edu/ \n",
    "  \n",
    "\n",
    "The global map is copied in numerous ways by media outlets.\n",
    "\n",
    "![screenshot](https://raw.githubusercontent.com/FAU-Analytical-Paleo/Analytical-Palaeobiology/master/01_Covid-19/img/jh-screenshot.png)"
   ]
  },
  {
   "cell_type": "markdown",
   "metadata": {},
   "source": [
    "You can see the current map here: https://coronavirus.jhu.edu/map.html.\n",
    "At the bottom of the page you see a link to downloadable databases, one of which is on Github.\n",
    "\n",
    "For us the most important data are in \n",
    "https://github.com/CSSEGISandData/COVID-19/tree/master/csse_covid_19_data/csse_covid_19_time_series.  \n",
    "Here we focus on the global \"confirmed\", \"deaths\" and \"recovered\" numbers. By clicking either of these csv you see that they start from January 22 2020 and are reported on a daily basis until yesterday.\n",
    "\n",
    "Let us first import all these data into R."
   ]
  },
  {
   "cell_type": "code",
   "execution_count": 1,
   "metadata": {},
   "outputs": [],
   "source": [
    "# reported infected \n",
    "inf <- read.csv(\"https://raw.githubusercontent.com/CSSEGISandData/COVID-19/master/csse_covid_19_data/csse_covid_19_time_series/time_series_covid19_confirmed_global.csv\",\n",
    "                 header = T) \n",
    "\n",
    "# reported recovered\n",
    "rec <- read.csv(\"https://raw.githubusercontent.com/CSSEGISandData/COVID-19/master/csse_covid_19_data/csse_covid_19_time_series/time_series_covid19_recovered_global.csv\",\n",
    "                 header = T) \n",
    " \n",
    "# reported death\n",
    "dea <- read.csv(\"https://raw.githubusercontent.com/CSSEGISandData/COVID-19/master/csse_covid_19_data/csse_covid_19_time_series/time_series_covid19_deaths_global.csv\", \n",
    "                 header=T) \n"
   ]
  },
  {
   "cell_type": "markdown",
   "metadata": {},
   "source": [
    "View one of these data frames and you'll see that data are arranged by country and smaller political units (in rows) and dates (in columns). Importantly numbers are cumulated. They can only increase or remain stable but never decrease. This is equivalent to diversification rates inferred from molecular clocks."
   ]
  },
  {
   "cell_type": "code",
   "execution_count": 2,
   "metadata": {},
   "outputs": [
    {
     "data": {
      "text/html": [
       "<table>\n",
       "<thead><tr><th scope=col>Province.State</th><th scope=col>Country.Region</th><th scope=col>Lat</th><th scope=col>Long</th><th scope=col>X1.22.20</th><th scope=col>X1.23.20</th><th scope=col>X1.24.20</th><th scope=col>X1.25.20</th><th scope=col>X1.26.20</th><th scope=col>X1.27.20</th><th scope=col>...</th><th scope=col>X4.12.20</th><th scope=col>X4.13.20</th><th scope=col>X4.14.20</th><th scope=col>X4.15.20</th><th scope=col>X4.16.20</th><th scope=col>X4.17.20</th><th scope=col>X4.18.20</th><th scope=col>X4.19.20</th><th scope=col>X4.20.20</th><th scope=col>X4.21.20</th></tr></thead>\n",
       "<tbody>\n",
       "\t<tr><td>                   </td><td>Afghanistan        </td><td> 33.0000           </td><td> 65.0000           </td><td>0                  </td><td>0                  </td><td>0                  </td><td>0                  </td><td>0                  </td><td>0                  </td><td>...                </td><td> 607               </td><td> 665               </td><td> 714               </td><td> 784               </td><td> 840               </td><td> 906               </td><td> 933               </td><td> 996               </td><td>1026               </td><td>1092               </td></tr>\n",
       "\t<tr><td>                   </td><td>Albania            </td><td> 41.1533           </td><td> 20.1683           </td><td>0                  </td><td>0                  </td><td>0                  </td><td>0                  </td><td>0                  </td><td>0                  </td><td>...                </td><td> 446               </td><td> 467               </td><td> 475               </td><td> 494               </td><td> 518               </td><td> 539               </td><td> 548               </td><td> 562               </td><td> 584               </td><td> 609               </td></tr>\n",
       "\t<tr><td>                   </td><td>Algeria            </td><td> 28.0339           </td><td>  1.6596           </td><td>0                  </td><td>0                  </td><td>0                  </td><td>0                  </td><td>0                  </td><td>0                  </td><td>...                </td><td>1914               </td><td>1983               </td><td>2070               </td><td>2160               </td><td>2268               </td><td>2418               </td><td>2534               </td><td>2629               </td><td>2718               </td><td>2811               </td></tr>\n",
       "\t<tr><td>                   </td><td>Andorra            </td><td> 42.5063           </td><td>  1.5218           </td><td>0                  </td><td>0                  </td><td>0                  </td><td>0                  </td><td>0                  </td><td>0                  </td><td>...                </td><td> 638               </td><td> 646               </td><td> 659               </td><td> 673               </td><td> 673               </td><td> 696               </td><td> 704               </td><td> 713               </td><td> 717               </td><td> 717               </td></tr>\n",
       "\t<tr><td>                   </td><td>Angola             </td><td>-11.2027           </td><td> 17.8739           </td><td>0                  </td><td>0                  </td><td>0                  </td><td>0                  </td><td>0                  </td><td>0                  </td><td>...                </td><td>  19               </td><td>  19               </td><td>  19               </td><td>  19               </td><td>  19               </td><td>  19               </td><td>  24               </td><td>  24               </td><td>  24               </td><td>  24               </td></tr>\n",
       "\t<tr><td>                   </td><td>Antigua and Barbuda</td><td> 17.0608           </td><td>-61.7964           </td><td>0                  </td><td>0                  </td><td>0                  </td><td>0                  </td><td>0                  </td><td>0                  </td><td>...                </td><td>  21               </td><td>  23               </td><td>  23               </td><td>  23               </td><td>  23               </td><td>  23               </td><td>  23               </td><td>  23               </td><td>  23               </td><td>  23               </td></tr>\n",
       "</tbody>\n",
       "</table>\n"
      ],
      "text/latex": [
       "\\begin{tabular}{r|lllllllllllllllllllllllllllllllllllllllllllllllllllllllllllllllllllllllllllllllllllllllllllllll}\n",
       " Province.State & Country.Region & Lat & Long & X1.22.20 & X1.23.20 & X1.24.20 & X1.25.20 & X1.26.20 & X1.27.20 & ... & X4.12.20 & X4.13.20 & X4.14.20 & X4.15.20 & X4.16.20 & X4.17.20 & X4.18.20 & X4.19.20 & X4.20.20 & X4.21.20\\\\\n",
       "\\hline\n",
       "\t                     & Afghanistan         &  33.0000            &  65.0000            & 0                   & 0                   & 0                   & 0                   & 0                   & 0                   & ...                 &  607                &  665                &  714                &  784                &  840                &  906                &  933                &  996                & 1026                & 1092               \\\\\n",
       "\t                     & Albania             &  41.1533            &  20.1683            & 0                   & 0                   & 0                   & 0                   & 0                   & 0                   & ...                 &  446                &  467                &  475                &  494                &  518                &  539                &  548                &  562                &  584                &  609               \\\\\n",
       "\t                     & Algeria             &  28.0339            &   1.6596            & 0                   & 0                   & 0                   & 0                   & 0                   & 0                   & ...                 & 1914                & 1983                & 2070                & 2160                & 2268                & 2418                & 2534                & 2629                & 2718                & 2811               \\\\\n",
       "\t                     & Andorra             &  42.5063            &   1.5218            & 0                   & 0                   & 0                   & 0                   & 0                   & 0                   & ...                 &  638                &  646                &  659                &  673                &  673                &  696                &  704                &  713                &  717                &  717               \\\\\n",
       "\t                     & Angola              & -11.2027            &  17.8739            & 0                   & 0                   & 0                   & 0                   & 0                   & 0                   & ...                 &   19                &   19                &   19                &   19                &   19                &   19                &   24                &   24                &   24                &   24               \\\\\n",
       "\t                     & Antigua and Barbuda &  17.0608            & -61.7964            & 0                   & 0                   & 0                   & 0                   & 0                   & 0                   & ...                 &   21                &   23                &   23                &   23                &   23                &   23                &   23                &   23                &   23                &   23               \\\\\n",
       "\\end{tabular}\n"
      ],
      "text/markdown": [
       "\n",
       "| Province.State | Country.Region | Lat | Long | X1.22.20 | X1.23.20 | X1.24.20 | X1.25.20 | X1.26.20 | X1.27.20 | ... | X4.12.20 | X4.13.20 | X4.14.20 | X4.15.20 | X4.16.20 | X4.17.20 | X4.18.20 | X4.19.20 | X4.20.20 | X4.21.20 |\n",
       "|---|---|---|---|---|---|---|---|---|---|---|---|---|---|---|---|---|---|---|---|---|\n",
       "|                     | Afghanistan         |  33.0000            |  65.0000            | 0                   | 0                   | 0                   | 0                   | 0                   | 0                   | ...                 |  607                |  665                |  714                |  784                |  840                |  906                |  933                |  996                | 1026                | 1092                |\n",
       "|                     | Albania             |  41.1533            |  20.1683            | 0                   | 0                   | 0                   | 0                   | 0                   | 0                   | ...                 |  446                |  467                |  475                |  494                |  518                |  539                |  548                |  562                |  584                |  609                |\n",
       "|                     | Algeria             |  28.0339            |   1.6596            | 0                   | 0                   | 0                   | 0                   | 0                   | 0                   | ...                 | 1914                | 1983                | 2070                | 2160                | 2268                | 2418                | 2534                | 2629                | 2718                | 2811                |\n",
       "|                     | Andorra             |  42.5063            |   1.5218            | 0                   | 0                   | 0                   | 0                   | 0                   | 0                   | ...                 |  638                |  646                |  659                |  673                |  673                |  696                |  704                |  713                |  717                |  717                |\n",
       "|                     | Angola              | -11.2027            |  17.8739            | 0                   | 0                   | 0                   | 0                   | 0                   | 0                   | ...                 |   19                |   19                |   19                |   19                |   19                |   19                |   24                |   24                |   24                |   24                |\n",
       "|                     | Antigua and Barbuda |  17.0608            | -61.7964            | 0                   | 0                   | 0                   | 0                   | 0                   | 0                   | ...                 |   21                |   23                |   23                |   23                |   23                |   23                |   23                |   23                |   23                |   23                |\n",
       "\n"
      ],
      "text/plain": [
       "  Province.State Country.Region      Lat      Long     X1.22.20 X1.23.20\n",
       "1                Afghanistan          33.0000  65.0000 0        0       \n",
       "2                Albania              41.1533  20.1683 0        0       \n",
       "3                Algeria              28.0339   1.6596 0        0       \n",
       "4                Andorra              42.5063   1.5218 0        0       \n",
       "5                Angola              -11.2027  17.8739 0        0       \n",
       "6                Antigua and Barbuda  17.0608 -61.7964 0        0       \n",
       "  X1.24.20 X1.25.20 X1.26.20 X1.27.20 ... X4.12.20 X4.13.20 X4.14.20 X4.15.20\n",
       "1 0        0        0        0        ...  607      665      714      784    \n",
       "2 0        0        0        0        ...  446      467      475      494    \n",
       "3 0        0        0        0        ... 1914     1983     2070     2160    \n",
       "4 0        0        0        0        ...  638      646      659      673    \n",
       "5 0        0        0        0        ...   19       19       19       19    \n",
       "6 0        0        0        0        ...   21       23       23       23    \n",
       "  X4.16.20 X4.17.20 X4.18.20 X4.19.20 X4.20.20 X4.21.20\n",
       "1  840      906      933      996     1026     1092    \n",
       "2  518      539      548      562      584      609    \n",
       "3 2268     2418     2534     2629     2718     2811    \n",
       "4  673      696      704      713      717      717    \n",
       "5   19       19       24       24       24       24    \n",
       "6   23       23       23       23       23       23    "
      ]
     },
     "metadata": {},
     "output_type": "display_data"
    }
   ],
   "source": [
    "head(inf)"
   ]
  },
  {
   "cell_type": "markdown",
   "metadata": {},
   "source": [
    "Let us first try to get a reasonable estimate of death rates. We get them by summing up all incidents and dividing by infection incidents."
   ]
  },
  {
   "cell_type": "code",
   "execution_count": 3,
   "metadata": {},
   "outputs": [
    {
     "data": {
      "text/html": [
       "0.0691058291485149"
      ],
      "text/latex": [
       "0.0691058291485149"
      ],
      "text/markdown": [
       "0.0691058291485149"
      ],
      "text/plain": [
       "[1] 0.06910583"
      ]
     },
     "metadata": {},
     "output_type": "display_data"
    }
   ],
   "source": [
    "x <- ncol(inf)\n",
    "c.inf <- sum(inf[,x])\n",
    "c.dea <- sum(dea[,x])\n",
    "\n",
    "# Death rate\n",
    "c.dea/c.inf"
   ]
  },
  {
   "cell_type": "markdown",
   "metadata": {},
   "source": [
    "The death rate is shockingly high but perhaps unrealistic, because infection rates are not thoroughly assessed in all countries.\n",
    "Let us look at a boxplot of death rates in political units with at least 2000 incidents.\n"
   ]
  },
  {
   "cell_type": "code",
   "execution_count": 4,
   "metadata": {},
   "outputs": [
    {
     "data": {
      "text/html": [
       "'Mean= 0.0477104608812318'"
      ],
      "text/latex": [
       "'Mean= 0.0477104608812318'"
      ],
      "text/markdown": [
       "'Mean= 0.0477104608812318'"
      ],
      "text/plain": [
       "[1] \"Mean= 0.0477104608812318\""
      ]
     },
     "metadata": {},
     "output_type": "display_data"
    },
    {
     "data": {
      "text/html": [
       "'Median= 0.0353847540903717'"
      ],
      "text/latex": [
       "'Median= 0.0353847540903717'"
      ],
      "text/markdown": [
       "'Median= 0.0353847540903717'"
      ],
      "text/plain": [
       "[1] \"Median= 0.0353847540903717\""
      ]
     },
     "metadata": {},
     "output_type": "display_data"
    },
    {
     "data": {
      "image/png": "[encoded data removed]",
      "text/plain": [
       "plot without title"
      ]
     },
     "metadata": {},
     "output_type": "display_data"
    }
   ],
   "source": [
    "y <- which(inf[,x]>2000)\n",
    "\n",
    "boxplot(dea[y,x]/inf[y,x])\n",
    "paste(\"Mean=\", mean(dea[y,x]/inf[y,x])) \n",
    "paste(\"Median=\", median(dea[y,x]/inf[y,x])) \n"
   ]
  },
  {
   "cell_type": "markdown",
   "metadata": {},
   "source": [
    "\n",
    "You see that there is still a great heterogeneity in those data and it is hard to see a socio-economic or climatic pattern.\n"
   ]
  },
  {
   "cell_type": "code",
   "execution_count": 5,
   "metadata": {},
   "outputs": [
    {
     "data": {
      "text/html": [
       "<table>\n",
       "<thead><tr><th scope=col>Country.Region</th><th scope=col>death.rate</th></tr></thead>\n",
       "<tbody>\n",
       "\t<tr><td>Algeria   </td><td>0.139     </td></tr>\n",
       "\t<tr><td>Argentina </td><td>0.048     </td></tr>\n",
       "\t<tr><td>Australia </td><td>0.009     </td></tr>\n",
       "\t<tr><td>Austria   </td><td>0.033     </td></tr>\n",
       "\t<tr><td>Bangladesh</td><td>0.033     </td></tr>\n",
       "\t<tr><td>Belarus   </td><td>0.008     </td></tr>\n",
       "</tbody>\n",
       "</table>\n"
      ],
      "text/latex": [
       "\\begin{tabular}{r|ll}\n",
       " Country.Region & death.rate\\\\\n",
       "\\hline\n",
       "\t Algeria    & 0.139     \\\\\n",
       "\t Argentina  & 0.048     \\\\\n",
       "\t Australia  & 0.009     \\\\\n",
       "\t Austria    & 0.033     \\\\\n",
       "\t Bangladesh & 0.033     \\\\\n",
       "\t Belarus    & 0.008     \\\\\n",
       "\\end{tabular}\n"
      ],
      "text/markdown": [
       "\n",
       "| Country.Region | death.rate |\n",
       "|---|---|\n",
       "| Algeria    | 0.139      |\n",
       "| Argentina  | 0.048      |\n",
       "| Australia  | 0.009      |\n",
       "| Austria    | 0.033      |\n",
       "| Bangladesh | 0.033      |\n",
       "| Belarus    | 0.008      |\n",
       "\n"
      ],
      "text/plain": [
       "  Country.Region death.rate\n",
       "1 Algeria        0.139     \n",
       "2 Argentina      0.048     \n",
       "3 Australia      0.009     \n",
       "4 Austria        0.033     \n",
       "5 Bangladesh     0.033     \n",
       "6 Belarus        0.008     "
      ]
     },
     "metadata": {},
     "output_type": "display_data"
    }
   ],
   "source": [
    "dat <- data.frame(inf$Country.Region[y], round(dea[y,x]/inf[y,x],3))\n",
    "colnames(dat) <- c(\"Country.Region\", \"death.rate\")\n",
    "\n",
    "head(dat)"
   ]
  },
  {
   "cell_type": "markdown",
   "metadata": {},
   "source": [
    "### Starting the time series business ###\n",
    "I focus on fatalities and global data first.\n",
    "We will need two packages. Please install them using `install.packages()` if you do not have them\n"
   ]
  },
  {
   "cell_type": "code",
   "execution_count": 6,
   "metadata": {},
   "outputs": [
    {
     "name": "stderr",
     "output_type": "stream",
     "text": [
      "Loading required package: nlme\n",
      "This is mgcv 1.8-28. For overview type 'help(\"mgcv-package\")'.\n",
      "Warning message:\n",
      "\"package 'forecast' was built under R version 3.6.3\"Registered S3 methods overwritten by 'ggplot2':\n",
      "  method         from \n",
      "  [.quosures     rlang\n",
      "  c.quosures     rlang\n",
      "  print.quosures rlang\n",
      "Registered S3 method overwritten by 'xts':\n",
      "  method     from\n",
      "  as.zoo.xts zoo \n",
      "Registered S3 method overwritten by 'quantmod':\n",
      "  method            from\n",
      "  as.zoo.data.frame zoo \n",
      "\n",
      "Attaching package: 'forecast'\n",
      "\n",
      "The following object is masked from 'package:nlme':\n",
      "\n",
      "    getResponse\n",
      "\n"
     ]
    }
   ],
   "source": [
    "library(mgcv) # for gam models\n",
    "library(forecast) # for Auto-ARIMA"
   ]
  },
  {
   "cell_type": "markdown",
   "metadata": {},
   "source": [
    "\n",
    "You can summarize from above by:\n"
   ]
  },
  {
   "cell_type": "code",
   "execution_count": 7,
   "metadata": {},
   "outputs": [
    {
     "data": {
      "image/png": "[encoded data removed]",
      "text/plain": [
       "plot without title"
      ]
     },
     "metadata": {},
     "output_type": "display_data"
    }
   ],
   "source": [
    " dead <- dea[,-c(1:4)] # count data only\n",
    " d.cum <- apply(dead, 2, sum)\n",
    " plot(d.cum, type=\"l\")  \n"
   ]
  },
  {
   "cell_type": "markdown",
   "metadata": {},
   "source": [
    "\n",
    "We can make this nicer by creating dates and other adjustments  \n"
   ]
  },
  {
   "cell_type": "code",
   "execution_count": 8,
   "metadata": {},
   "outputs": [
    {
     "data": {
      "image/png": "[encoded data removed]",
      "text/plain": [
       "plot without title"
      ]
     },
     "metadata": {},
     "output_type": "display_data"
    }
   ],
   "source": [
    "inds <- seq(as.Date(\"2020-01-22\"), (Sys.Date()-1), by = \"day\")\n",
    "\n",
    "#this saves the original graphic parameters and \n",
    "# update our current parameters to having two rows and one column\n",
    "op <- par(mfrow=c(1,2)) \n",
    "\n",
    "#plotting\n",
    "plot(inds,d.cum, type=\"l\", xlab=\"\", ylab=\"fatalities\")  \n",
    "plot(inds, d.cum, type=\"l\", xlab=\"\", log=\"y\", ylab=\"\")\n",
    "\n",
    "#reset to orignal graphic parameters\n",
    "par(op)\n"
   ]
  },
  {
   "cell_type": "markdown",
   "metadata": {},
   "source": [
    "In the logged plot (right) you see that a simple exponential model may not be the best. The curve is more complex.\n",
    "Let us now develop more complex models.\n",
    "We first need to develop an index x for the regression analysis and then we list models with increasing complexity.\n"
   ]
  },
  {
   "cell_type": "code",
   "execution_count": 9,
   "metadata": {},
   "outputs": [],
   "source": [
    "x <- c(1:ncol(dead))\n",
    "\n",
    "# Classical model fitting\n",
    "fit  <- lm(d.cum~x) # linear\n",
    "fit.e <- lm(log(d.cum) ~ x)\n",
    "\n",
    "#second degree\n",
    "fit2 <- lm(d.cum~poly(x,2,raw=TRUE))\n",
    "\n",
    "#third degree\n",
    "fit3 <- lm(d.cum~poly(x,3,raw=TRUE))\n",
    "\n",
    "#fourth degree\n",
    "fit4 <- lm(d.cum~poly(x,4,raw=TRUE))\n",
    "\n",
    "#fifth degree\n",
    "fit5 <- lm(d.cum~poly(x,5,raw=TRUE))\n",
    "\n",
    "# gam # More on this in winter\n",
    "fit.g <- gam(d.cum~s(x))"
   ]
  },
  {
   "cell_type": "markdown",
   "metadata": {},
   "source": [
    "Let's have a look at how the models look"
   ]
  },
  {
   "cell_type": "code",
   "execution_count": 10,
   "metadata": {},
   "outputs": [
    {
     "data": {
      "image/png": "[encoded data removed]",
      "text/plain": [
       "plot without title"
      ]
     },
     "metadata": {},
     "output_type": "display_data"
    }
   ],
   "source": [
    "plot(inds,d.cum, xlab=\"\",ylab=\"fatalities\")\n",
    "\n",
    "#lines(predict(fit), col=\"red\")\n",
    "lines(inds, exp(predict(fit.e)), lwd=2)\n",
    "lines(inds, predict(fit2), col=\"green\")\n",
    "lines(inds, predict(fit3), col=\"blue\")\n",
    "lines(inds, predict(fit4), col=\"orange\")\n",
    "lines(inds, predict(fit5), col=\"brown\")\n",
    "lines(inds, predict(fit.g), col=\"magenta\")"
   ]
  },
  {
   "cell_type": "markdown",
   "metadata": {},
   "source": [
    "The models seem to differ only marginally, but small differences can have large effects in forecasting (see below).  \n",
    "Fortunately, an exponential model seems to be outperformed by higher-order polynomials.\n",
    "Among the models the GAM (general additive model) performs best in terms of AIC.\n"
   ]
  },
  {
   "cell_type": "code",
   "execution_count": 11,
   "metadata": {},
   "outputs": [
    {
     "data": {
      "text/html": [
       "<table>\n",
       "<thead><tr><th></th><th scope=col>df</th><th scope=col>AIC</th></tr></thead>\n",
       "<tbody>\n",
       "\t<tr><th scope=row>fit4</th><td> 6.00000</td><td>1724.788</td></tr>\n",
       "\t<tr><th scope=row>fit5</th><td> 7.00000</td><td>1631.282</td></tr>\n",
       "\t<tr><th scope=row>fit.g</th><td>10.46847</td><td>1483.534</td></tr>\n",
       "</tbody>\n",
       "</table>\n"
      ],
      "text/latex": [
       "\\begin{tabular}{r|ll}\n",
       "  & df & AIC\\\\\n",
       "\\hline\n",
       "\tfit4 &  6.00000 & 1724.788\\\\\n",
       "\tfit5 &  7.00000 & 1631.282\\\\\n",
       "\tfit.g & 10.46847 & 1483.534\\\\\n",
       "\\end{tabular}\n"
      ],
      "text/markdown": [
       "\n",
       "| <!--/--> | df | AIC |\n",
       "|---|---|---|\n",
       "| fit4 |  6.00000 | 1724.788 |\n",
       "| fit5 |  7.00000 | 1631.282 |\n",
       "| fit.g | 10.46847 | 1483.534 |\n",
       "\n"
      ],
      "text/plain": [
       "      df       AIC     \n",
       "fit4   6.00000 1724.788\n",
       "fit5   7.00000 1631.282\n",
       "fit.g 10.46847 1483.534"
      ]
     },
     "metadata": {},
     "output_type": "display_data"
    }
   ],
   "source": [
    "AIC(fit4, fit5, fit.g) # Not that the exponential model cannot be included here"
   ]
  },
  {
   "cell_type": "markdown",
   "metadata": {},
   "source": [
    "\n",
    "Let us use the GAM to predict the number of fatlities by the end of April and the end of March\n"
   ]
  },
  {
   "cell_type": "code",
   "execution_count": 12,
   "metadata": {},
   "outputs": [],
   "source": [
    "# forecast\n",
    "fore <- 150\n",
    "d.pre <- predict(fit.g, data.frame(x=seq(1,fore)))\n",
    "inds <- seq(as.Date(\"2020-01-22\"), as.Date(\"2020-01-22\")+fore-1, by=1)\n",
    "\n",
    "# data.frame(inds, d.pre)\n"
   ]
  },
  {
   "cell_type": "markdown",
   "metadata": {},
   "source": [
    "Plotting this shows an issue\n",
    "\n"
   ]
  },
  {
   "cell_type": "code",
   "execution_count": 13,
   "metadata": {},
   "outputs": [
    {
     "data": {
      "image/png": "[encoded data removed]",
      "text/plain": [
       "plot without title"
      ]
     },
     "metadata": {},
     "output_type": "display_data"
    }
   ],
   "source": [
    "plot(inds, d.pre, type=\"l\")\n",
    "points(inds[1:ncol(dead)], d.cum)\n"
   ]
  },
  {
   "cell_type": "markdown",
   "metadata": {},
   "source": [
    "The issue is that the GAM is just linearly extrapolated. \n",
    "What is the result using the fit5 model?\n"
   ]
  },
  {
   "cell_type": "code",
   "execution_count": 14,
   "metadata": {},
   "outputs": [
    {
     "data": {
      "image/png": "[encoded data removed]",
      "text/plain": [
       "plot without title"
      ]
     },
     "metadata": {},
     "output_type": "display_data"
    }
   ],
   "source": [
    "# forecast\n",
    "d.pre <- predict(fit5, data.frame(x=seq(1,fore)))\n",
    "inds <- seq(as.Date(\"2020-01-22\"), as.Date(\"2020-01-22\")+fore-1, by=1)\n",
    "plot(inds, d.pre, type=\"l\")\n",
    "points(inds[1:ncol(dead)], d.cum)"
   ]
  },
  {
   "cell_type": "markdown",
   "metadata": {},
   "source": [
    "This model predicts peak fatalities by the end of May (**when exactly?**), but cannot be right either, because the cumulative nature of the data do not allow numbers to drop.  \n",
    "\n",
    "None of the two models shows what humankind is hoping for: a levelling off of the curve (aka logistic growth). So far our model was just informed by past data, whith no additional information whatsoever. \n",
    "This is a common situation in paleo.\n",
    "\n",
    "# First differences\n",
    "This aside, cumulative data are not suitable for statistical modeling because the are non stationary by definition. A series is said to be stationary when its mean, variance, and autocovariance are time invariant.\n",
    "The solution is to use first differences, that is, the daily rate for increase in incidences.\n",
    "First differences are often used in time series models, so it is good to know about them.\n",
    "As before we apply polynomial models and gam to the first differences\n"
   ]
  },
  {
   "cell_type": "code",
   "execution_count": 15,
   "metadata": {},
   "outputs": [
    {
     "data": {
      "text/html": [
       "<table>\n",
       "<thead><tr><th></th><th scope=col>df</th><th scope=col>AIC</th></tr></thead>\n",
       "<tbody>\n",
       "\t<tr><th scope=row>fit5</th><td>7.000000</td><td>842.7766</td></tr>\n",
       "\t<tr><th scope=row>fit6</th><td>8.000000</td><td>844.2733</td></tr>\n",
       "\t<tr><th scope=row>fit.g</th><td>6.351379</td><td>842.5934</td></tr>\n",
       "</tbody>\n",
       "</table>\n"
      ],
      "text/latex": [
       "\\begin{tabular}{r|ll}\n",
       "  & df & AIC\\\\\n",
       "\\hline\n",
       "\tfit5 & 7.000000 & 842.7766\\\\\n",
       "\tfit6 & 8.000000 & 844.2733\\\\\n",
       "\tfit.g & 6.351379 & 842.5934\\\\\n",
       "\\end{tabular}\n"
      ],
      "text/markdown": [
       "\n",
       "| <!--/--> | df | AIC |\n",
       "|---|---|---|\n",
       "| fit5 | 7.000000 | 842.7766 |\n",
       "| fit6 | 8.000000 | 844.2733 |\n",
       "| fit.g | 6.351379 | 842.5934 |\n",
       "\n"
      ],
      "text/plain": [
       "      df       AIC     \n",
       "fit5  7.000000 842.7766\n",
       "fit6  8.000000 844.2733\n",
       "fit.g 6.351379 842.5934"
      ]
     },
     "metadata": {},
     "output_type": "display_data"
    },
    {
     "data": {
      "image/png": "[encoded data removed]",
      "text/plain": [
       "plot without title"
      ]
     },
     "metadata": {},
     "output_type": "display_data"
    }
   ],
   "source": [
    "dd.cum <- diff(d.cum)\n",
    "\n",
    "ind <- length(dd.cum)  \n",
    "dd.cum <- dd.cum[40:ind]\n",
    "    \n",
    "x <- c(1:length(dd.cum))\n",
    "\n",
    "#fifth degree\n",
    "plot(dd.cum)\n",
    "fit5 <- lm(dd.cum~poly(x,5,raw=TRUE))\n",
    "lines(predict(fit5), col=\"brown\")\n",
    "fit6 <- lm(dd.cum~poly(x,6,raw=TRUE))\n",
    "lines(predict(fit6), col=\"darkblue\")\n",
    "\n",
    "# gam \n",
    "fit.g <- gam(dd.cum~s(x))\n",
    "lines(predict(fit.g), col=\"magenta\")\n",
    "AIC(fit5, fit6, fit.g)   \n"
   ]
  },
  {
   "cell_type": "markdown",
   "metadata": {},
   "source": [
    "We still get the result of increasing death rates, simply because there is no evidence of a levelling off until now at global scales. Things may be different when individual countries are observed and when the timeline of observed data is manipulated. In the below, there is already a different starting date.\n",
    "\n"
   ]
  },
  {
   "cell_type": "code",
   "execution_count": 16,
   "metadata": {},
   "outputs": [
    {
     "data": {
      "image/png": "[encoded data removed]",
      "text/plain": [
       "plot without title"
      ]
     },
     "metadata": {},
     "output_type": "display_data"
    }
   ],
   "source": [
    "# forecast\n",
    "fore <- 150\n",
    "d.pre <- predict(fit.g, data.frame(x=seq(1,fore)))\n",
    "inds <- seq(as.Date(\"2020-03-01\"), as.Date(\"2020-03-01\")+fore-1, by=1)\n",
    "\n",
    "# data.frame(inds, d.pre)\n",
    "plot(inds, d.pre, type=\"l\")\n",
    "points(inds[1:length(dd.cum)], dd.cum)\n"
   ]
  },
  {
   "cell_type": "markdown",
   "metadata": {},
   "source": [
    "  \n",
    "### Using Auto-Arima for forecasting ###\n",
    "ARIMA stands for auto-regressive integrated moving average. We shall talk more about auto-corellation and moving averages later. For now it is enough to learn that the R package {forecast} allows for an automated arima with the optimal parameters of p,d,q.\n"
   ]
  },
  {
   "cell_type": "code",
   "execution_count": 17,
   "metadata": {},
   "outputs": [
    {
     "data": {
      "image/png": "[encoded data removed]",
      "text/plain": [
       "Plot with title \"Forecasts from ARIMA(3,1,2) with drift\""
      ]
     },
     "metadata": {},
     "output_type": "display_data"
    }
   ],
   "source": [
    "# forecast\n",
    "fit <- auto.arima(dd.cum)\n",
    "fo <- forecast(fit,h=20)\n",
    "plot(fo)\n"
   ]
  },
  {
   "cell_type": "markdown",
   "metadata": {},
   "source": [
    "  \n",
    "Note that the assumption of stationarity is violated here, so arima forecasting should not be applied to these data. \n",
    "\n",
    "#### Classwork/Homework: Focus on individual countries ####\n",
    "We may achieve better predictive performance with national data, especially when data are deemed good.\n",
    "In addition better predictions we may also learn about lags in the time series, another important concept of time series analysis.\n",
    "To  get national data from the raw files, use the aggregate() function\n"
   ]
  },
  {
   "cell_type": "code",
   "execution_count": 18,
   "metadata": {},
   "outputs": [
    {
     "data": {
      "image/png": "[encoded data removed]",
      "text/plain": [
       "plot without title"
      ]
     },
     "metadata": {},
     "output_type": "display_data"
    }
   ],
   "source": [
    "infe <- inf[,-c(1:4)]\n",
    "dead <- dea[,-c(1:4)]\n",
    "reco <- rec[,-c(1:4)]\n",
    "i.country <- aggregate(infe, by=list(inf$Country.Region), FUN=sum)\n",
    "r.country <- aggregate(reco, by=list(rec$Country.Region), FUN=sum)\n",
    "d.country <- aggregate(dead, by=list(dea$Country.Region), FUN=sum)\n",
    "i <- i.country[66,-1] # Germany\n",
    "r <- r.country[66,-1]\n",
    "d <- d.country[66,-1]\n",
    "  \n",
    "# which(d.country$Group.1==\"Germany\")\n",
    "    \n",
    "i <- as.numeric(i.country[66,-1])\n",
    "r <- as.numeric(r.country[66,-1])\n",
    "d <- as.numeric(d.country[66,-1])\n",
    "inds <- seq(as.Date(\"2020-01-22\"), (Sys.Date()-1), by = \"day\")\n",
    "\n",
    "# When first infection reported?\n",
    "st <- which(i>0)[1]\n",
    "inds <- inds[-(1:st)]\n",
    "i <- i[-(1:st)]\n",
    "r <- r[-(1:st)]\n",
    "d <- d[-(1:st)]\n",
    "\n",
    "plot(inds, i, col=\"red\", type=\"l\")\n",
    "lines(inds, r, col=\"green\")\n",
    "lines(inds, d)"
   ]
  },
  {
   "cell_type": "markdown",
   "metadata": {},
   "source": [
    "  \n",
    "  Now we go on with first differences and gam smoothing for all three variables.\n",
    "  \n"
   ]
  },
  {
   "cell_type": "code",
   "execution_count": 19,
   "metadata": {},
   "outputs": [
    {
     "data": {
      "image/png": "[encoded data removed]",
      "text/plain": [
       "plot without title"
      ]
     },
     "metadata": {},
     "output_type": "display_data"
    }
   ],
   "source": [
    "# First differences and gam smoothing\n",
    "di <- diff(i)\n",
    "dr <- diff(r)\n",
    "dd <- diff(d)\n",
    "   \n",
    "d.inds <- inds[-1]\n",
    "plot(d.inds, di, col=\"red\", type=\"l\")\n",
    "lines(d.inds, dr, col=\"green\")\n",
    "lines(d.inds, dd, col=\"brown\")\n",
    "\n",
    "x <- c(1:length(d.inds))\n",
    "fit.gi <- gam(di~s(x))\n",
    "fit.gr <- gam(dr~s(x))\n",
    "fit.gd <- gam(dd~s(x))\n",
    "lines(d.inds, predict(fit.gi), col=\"red\")\n",
    "lines(d.inds, predict(fit.gr), col=\"green\")\n",
    "lines(d.inds, predict(fit.gd), col=\"brown\")"
   ]
  },
  {
   "cell_type": "code",
   "execution_count": 20,
   "metadata": {},
   "outputs": [
    {
     "data": {
      "image/png": "[encoded data removed]",
      "text/plain": [
       "plot without title"
      ]
     },
     "metadata": {},
     "output_type": "display_data"
    }
   ],
   "source": [
    "# forecast for infection rates (classical gam extrapolation)\n",
    "fore <- 100\n",
    "d.pre <- predict(fit.gi, data.frame(x=seq(1,fore)), link=\"log\", type=\"response\")\n",
    "inds <- seq(as.Date(d.inds[1]), as.Date(d.inds[1])+fore-1, by=1)\n",
    "\n",
    "plot(inds, d.pre, type=\"l\")"
   ]
  },
  {
   "cell_type": "markdown",
   "metadata": {},
   "source": [
    "  \n",
    "We still have the problem of predicted negative infection rates. \n",
    "    \n"
   ]
  },
  {
   "cell_type": "code",
   "execution_count": 21,
   "metadata": {},
   "outputs": [
    {
     "data": {
      "image/png": "[encoded data removed]",
      "text/plain": [
       "Plot with title \"Forecasts from ARIMA(0,1,0)\""
      ]
     },
     "metadata": {},
     "output_type": "display_data"
    }
   ],
   "source": [
    "# forecast for infection rates (Arima)\n",
    "fit <- auto.arima(di)\n",
    "fo <- forecast(fit,h=20)\n",
    "plot(fo)\n"
   ]
  },
  {
   "cell_type": "markdown",
   "metadata": {},
   "source": [
    "#### Homework: How sensitive are predictions to the number of known data points ####\n",
    "\n",
    "We now have a history of 90 days to inform our model. \n",
    "How does forecast change when limiting the time of previous observations?  \n",
    " **- Limit data start to when Covi-19 became a global pandemic (March 1)**  \n",
    " **- Limit data end to some arbitrary date in the first two weeks of April**\n"
   ]
  }
 ],
 "metadata": {
  "anaconda-cloud": "",
  "kernelspec": {
   "display_name": "R",
   "language": "R",
   "name": "ir"
  },
  "language_info": {
   "codemirror_mode": "r",
   "file_extension": ".r",
   "mimetype": "text/x-r-source",
   "name": "R",
   "pygments_lexer": "r",
   "version": "3.6.1"
  }
 },
 "nbformat": 4,
 "nbformat_minor": 1
}
